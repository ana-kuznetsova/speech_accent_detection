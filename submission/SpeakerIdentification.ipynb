{
  "nbformat": 4,
  "nbformat_minor": 0,
  "metadata": {
    "colab": {
      "name": "SpeakerIdentification.ipynb",
      "provenance": [],
      "collapsed_sections": [],
      "machine_shape": "hm"
    },
    "kernelspec": {
      "name": "python3",
      "display_name": "Python 3"
    },
    "accelerator": "GPU",
    "widgets": {
      "application/vnd.jupyter.widget-state+json": {
        "55f4b53f0acd47f99257ba403363baae": {
          "model_module": "@jupyter-widgets/controls",
          "model_name": "HBoxModel",
          "state": {
            "_view_name": "HBoxView",
            "_dom_classes": [],
            "_model_name": "HBoxModel",
            "_view_module": "@jupyter-widgets/controls",
            "_model_module_version": "1.5.0",
            "_view_count": null,
            "_view_module_version": "1.5.0",
            "box_style": "",
            "layout": "IPY_MODEL_abf9af2d8f2f47ca83312718fc22e4fc",
            "_model_module": "@jupyter-widgets/controls",
            "children": [
              "IPY_MODEL_8afa489134be489295791f2940fe954b",
              "IPY_MODEL_922a30b3992a417b85655b4ceecac545"
            ]
          }
        },
        "abf9af2d8f2f47ca83312718fc22e4fc": {
          "model_module": "@jupyter-widgets/base",
          "model_name": "LayoutModel",
          "state": {
            "_view_name": "LayoutView",
            "grid_template_rows": null,
            "right": null,
            "justify_content": null,
            "_view_module": "@jupyter-widgets/base",
            "overflow": null,
            "_model_module_version": "1.2.0",
            "_view_count": null,
            "flex_flow": null,
            "width": null,
            "min_width": null,
            "border": null,
            "align_items": null,
            "bottom": null,
            "_model_module": "@jupyter-widgets/base",
            "top": null,
            "grid_column": null,
            "overflow_y": null,
            "overflow_x": null,
            "grid_auto_flow": null,
            "grid_area": null,
            "grid_template_columns": null,
            "flex": null,
            "_model_name": "LayoutModel",
            "justify_items": null,
            "grid_row": null,
            "max_height": null,
            "align_content": null,
            "visibility": null,
            "align_self": null,
            "height": null,
            "min_height": null,
            "padding": null,
            "grid_auto_rows": null,
            "grid_gap": null,
            "max_width": null,
            "order": null,
            "_view_module_version": "1.2.0",
            "grid_template_areas": null,
            "object_position": null,
            "object_fit": null,
            "grid_auto_columns": null,
            "margin": null,
            "display": null,
            "left": null
          }
        },
        "8afa489134be489295791f2940fe954b": {
          "model_module": "@jupyter-widgets/controls",
          "model_name": "IntProgressModel",
          "state": {
            "_view_name": "ProgressView",
            "style": "IPY_MODEL_5ccb2c2e076f4c868530cc638f6be0ae",
            "_dom_classes": [],
            "description": "",
            "_model_name": "IntProgressModel",
            "bar_style": "success",
            "max": 10,
            "_view_module": "@jupyter-widgets/controls",
            "_model_module_version": "1.5.0",
            "value": 10,
            "_view_count": null,
            "_view_module_version": "1.5.0",
            "orientation": "horizontal",
            "min": 0,
            "description_tooltip": null,
            "_model_module": "@jupyter-widgets/controls",
            "layout": "IPY_MODEL_a1c3306624ea46649821122b30b6d5bb"
          }
        },
        "922a30b3992a417b85655b4ceecac545": {
          "model_module": "@jupyter-widgets/controls",
          "model_name": "HTMLModel",
          "state": {
            "_view_name": "HTMLView",
            "style": "IPY_MODEL_52c22cf07b00434a8a9f2c323c223c0d",
            "_dom_classes": [],
            "description": "",
            "_model_name": "HTMLModel",
            "placeholder": "​",
            "_view_module": "@jupyter-widgets/controls",
            "_model_module_version": "1.5.0",
            "value": "100% 10/10 [00:11&lt;00:00,  1.12it/s]",
            "_view_count": null,
            "_view_module_version": "1.5.0",
            "description_tooltip": null,
            "_model_module": "@jupyter-widgets/controls",
            "layout": "IPY_MODEL_8be439330b8348dea35e2f41c8a64c26"
          }
        },
        "5ccb2c2e076f4c868530cc638f6be0ae": {
          "model_module": "@jupyter-widgets/controls",
          "model_name": "ProgressStyleModel",
          "state": {
            "_view_name": "StyleView",
            "_model_name": "ProgressStyleModel",
            "description_width": "",
            "_view_module": "@jupyter-widgets/base",
            "_model_module_version": "1.5.0",
            "_view_count": null,
            "_view_module_version": "1.2.0",
            "bar_color": null,
            "_model_module": "@jupyter-widgets/controls"
          }
        },
        "a1c3306624ea46649821122b30b6d5bb": {
          "model_module": "@jupyter-widgets/base",
          "model_name": "LayoutModel",
          "state": {
            "_view_name": "LayoutView",
            "grid_template_rows": null,
            "right": null,
            "justify_content": null,
            "_view_module": "@jupyter-widgets/base",
            "overflow": null,
            "_model_module_version": "1.2.0",
            "_view_count": null,
            "flex_flow": null,
            "width": null,
            "min_width": null,
            "border": null,
            "align_items": null,
            "bottom": null,
            "_model_module": "@jupyter-widgets/base",
            "top": null,
            "grid_column": null,
            "overflow_y": null,
            "overflow_x": null,
            "grid_auto_flow": null,
            "grid_area": null,
            "grid_template_columns": null,
            "flex": null,
            "_model_name": "LayoutModel",
            "justify_items": null,
            "grid_row": null,
            "max_height": null,
            "align_content": null,
            "visibility": null,
            "align_self": null,
            "height": null,
            "min_height": null,
            "padding": null,
            "grid_auto_rows": null,
            "grid_gap": null,
            "max_width": null,
            "order": null,
            "_view_module_version": "1.2.0",
            "grid_template_areas": null,
            "object_position": null,
            "object_fit": null,
            "grid_auto_columns": null,
            "margin": null,
            "display": null,
            "left": null
          }
        },
        "52c22cf07b00434a8a9f2c323c223c0d": {
          "model_module": "@jupyter-widgets/controls",
          "model_name": "DescriptionStyleModel",
          "state": {
            "_view_name": "StyleView",
            "_model_name": "DescriptionStyleModel",
            "description_width": "",
            "_view_module": "@jupyter-widgets/base",
            "_model_module_version": "1.5.0",
            "_view_count": null,
            "_view_module_version": "1.2.0",
            "_model_module": "@jupyter-widgets/controls"
          }
        },
        "8be439330b8348dea35e2f41c8a64c26": {
          "model_module": "@jupyter-widgets/base",
          "model_name": "LayoutModel",
          "state": {
            "_view_name": "LayoutView",
            "grid_template_rows": null,
            "right": null,
            "justify_content": null,
            "_view_module": "@jupyter-widgets/base",
            "overflow": null,
            "_model_module_version": "1.2.0",
            "_view_count": null,
            "flex_flow": null,
            "width": null,
            "min_width": null,
            "border": null,
            "align_items": null,
            "bottom": null,
            "_model_module": "@jupyter-widgets/base",
            "top": null,
            "grid_column": null,
            "overflow_y": null,
            "overflow_x": null,
            "grid_auto_flow": null,
            "grid_area": null,
            "grid_template_columns": null,
            "flex": null,
            "_model_name": "LayoutModel",
            "justify_items": null,
            "grid_row": null,
            "max_height": null,
            "align_content": null,
            "visibility": null,
            "align_self": null,
            "height": null,
            "min_height": null,
            "padding": null,
            "grid_auto_rows": null,
            "grid_gap": null,
            "max_width": null,
            "order": null,
            "_view_module_version": "1.2.0",
            "grid_template_areas": null,
            "object_position": null,
            "object_fit": null,
            "grid_auto_columns": null,
            "margin": null,
            "display": null,
            "left": null
          }
        }
      }
    }
  },
  "cells": [
    {
      "cell_type": "code",
      "metadata": {
        "id": "vbCzHtKLEYoG",
        "colab_type": "code",
        "outputId": "092e6028-46c7-4ef4-f973-b8be894e2837",
        "colab": {
          "base_uri": "https://localhost:8080/",
          "height": 170
        }
      },
      "source": [
        "#Installing required libraries\n",
        "!pip install hickle"
      ],
      "execution_count": 2,
      "outputs": [
        {
          "output_type": "stream",
          "text": [
            "Collecting hickle\n",
            "\u001b[?25l  Downloading https://files.pythonhosted.org/packages/b3/45/ebc9e2a77f2349a4947a2eedd4480fc7b248d3f315b0f5a3a1826adcc522/hickle-3.4.5-py3-none-any.whl (40kB)\n",
            "\r\u001b[K     |████████▏                       | 10kB 23.1MB/s eta 0:00:01\r\u001b[K     |████████████████▎               | 20kB 1.8MB/s eta 0:00:01\r\u001b[K     |████████████████████████▌       | 30kB 2.6MB/s eta 0:00:01\r\u001b[K     |████████████████████████████████| 40kB 2.1MB/s \n",
            "\u001b[?25hRequirement already satisfied: dill in /usr/local/lib/python3.6/dist-packages (from hickle) (0.3.1.1)\n",
            "Requirement already satisfied: h5py in /usr/local/lib/python3.6/dist-packages (from hickle) (2.8.0)\n",
            "Requirement already satisfied: numpy in /usr/local/lib/python3.6/dist-packages (from hickle) (1.17.4)\n",
            "Requirement already satisfied: six in /usr/local/lib/python3.6/dist-packages (from h5py->hickle) (1.12.0)\n",
            "Installing collected packages: hickle\n",
            "Successfully installed hickle-3.4.5\n"
          ],
          "name": "stdout"
        }
      ]
    },
    {
      "cell_type": "code",
      "metadata": {
        "id": "sPA2cadLEq7g",
        "colab_type": "code",
        "outputId": "fa8bb212-cd23-41b2-9743-54510ea50833",
        "colab": {
          "base_uri": "https://localhost:8080/",
          "height": 122
        }
      },
      "source": [
        "#Mounting google drive\n",
        "from google.colab import drive\n",
        "drive.mount('/content/drive')"
      ],
      "execution_count": 3,
      "outputs": [
        {
          "output_type": "stream",
          "text": [
            "Go to this URL in a browser: https://accounts.google.com/o/oauth2/auth?client_id=947318989803-6bn6qk8qdgf4n4g3pfee6491hc0brc4i.apps.googleusercontent.com&redirect_uri=urn%3aietf%3awg%3aoauth%3a2.0%3aoob&response_type=code&scope=email%20https%3a%2f%2fwww.googleapis.com%2fauth%2fdocs.test%20https%3a%2f%2fwww.googleapis.com%2fauth%2fdrive%20https%3a%2f%2fwww.googleapis.com%2fauth%2fdrive.photos.readonly%20https%3a%2f%2fwww.googleapis.com%2fauth%2fpeopleapi.readonly\n",
            "\n",
            "Enter your authorization code:\n",
            "··········\n",
            "Mounted at /content/drive\n"
          ],
          "name": "stdout"
        }
      ]
    },
    {
      "cell_type": "code",
      "metadata": {
        "id": "EnP_ksNIEtjw",
        "colab_type": "code",
        "colab": {
          "base_uri": "https://localhost:8080/",
          "height": 80
        },
        "outputId": "fe42a24e-506f-4acc-ca3f-4fc77e1c8638"
      },
      "source": [
        "import os\n",
        "import random\n",
        "import hickle as h\n",
        "import pickle as p\n",
        "import numpy as np\n",
        "import pandas as pd\n",
        "import tensorflow as tf\n",
        "from tensorflow import keras\n",
        "from tqdm import tqdm_notebook\n",
        "import matplotlib.pyplot as plt\n",
        "from tensorflow.keras import layers\n",
        "import keras.backend as K\n",
        "from tensorflow.keras.models import model_from_json"
      ],
      "execution_count": 4,
      "outputs": [
        {
          "output_type": "display_data",
          "data": {
            "text/html": [
              "<p style=\"color: red;\">\n",
              "The default version of TensorFlow in Colab will soon switch to TensorFlow 2.x.<br>\n",
              "We recommend you <a href=\"https://www.tensorflow.org/guide/migrate\" target=\"_blank\">upgrade</a> now \n",
              "or ensure your notebook will continue to use TensorFlow 1.x via the <code>%tensorflow_version 1.x</code> magic:\n",
              "<a href=\"https://colab.research.google.com/notebooks/tensorflow_version.ipynb\" target=\"_blank\">more info</a>.</p>\n"
            ],
            "text/plain": [
              "<IPython.core.display.HTML object>"
            ]
          },
          "metadata": {
            "tags": []
          }
        },
        {
          "output_type": "stream",
          "text": [
            "Using TensorFlow backend.\n"
          ],
          "name": "stderr"
        }
      ]
    },
    {
      "cell_type": "code",
      "metadata": {
        "id": "5JW70oaSEzVU",
        "colab_type": "code",
        "colab": {}
      },
      "source": [
        "#Function for padding mfcc\n",
        "def padding(egs):\n",
        "    max_val = max([e.shape[0] for e in egs])\n",
        "    padded = np.array([np.pad(e, ((0, max_val-e.shape[0]), (0, 0)) , 'constant') for e in egs])\n",
        "    return padded  "
      ],
      "execution_count": 0,
      "outputs": []
    },
    {
      "cell_type": "code",
      "metadata": {
        "id": "PSHLP7cPE3JE",
        "colab_type": "code",
        "outputId": "69fc0e5c-98fd-4b32-c7e7-96fa03a87d7c",
        "colab": {
          "base_uri": "https://localhost:8080/",
          "height": 34
        }
      },
      "source": [
        "#Loading data from drive\n",
        "mfccs = h.load('drive/My Drive/mfcc.hkl')\n",
        "deltas = h.load('drive/My Drive/deltas.hkl')\n",
        "ddeltas = h.load('drive/My Drive/ddeltas.hkl')\n",
        "\n",
        "#Removing any nan values\n",
        "mfccs = [np.nan_to_num(m.T) for m in mfccs]\n",
        "deltas = [np.nan_to_num(d.T) for d in deltas]\n",
        "ddeltas = [np.nan_to_num(dd.T) for dd in ddeltas]\n",
        "\n",
        "#Normalizing the values\n",
        "mfccs = [m/np.max(m) for m in mfccs]\n",
        "deltas = [d/np.max(d) for d in deltas]\n",
        "ddeltas = [dd/np.max(dd) for dd in ddeltas]\n",
        "\n",
        "#Padding the vectors\n",
        "mfccs = padding(mfccs)\n",
        "deltas = padding(deltas)\n",
        "ddeltas = padding(ddeltas)\n",
        "\n",
        "#Stacking the data\n",
        "data = np.array([[i,j,k] for i, j, k in zip(mfccs, deltas, ddeltas)])\n",
        "data = data.reshape(2432, 5388, 20, 3)\n",
        "del(mfccs)\n",
        "del(deltas)\n",
        "del(ddeltas)\n",
        "print(data.shape)\n"
      ],
      "execution_count": 6,
      "outputs": [
        {
          "output_type": "stream",
          "text": [
            "(2432, 5388, 20, 3)\n"
          ],
          "name": "stdout"
        }
      ]
    },
    {
      "cell_type": "code",
      "metadata": {
        "id": "8Tc59yYlXwWE",
        "colab_type": "code",
        "outputId": "b4363a0c-5dae-4f71-d4c0-5d2894d4435d",
        "colab": {
          "base_uri": "https://localhost:8080/",
          "height": 34
        }
      },
      "source": [
        "#Creating similar and dissimilar datasets for Siamese Model\n",
        "def createDataset(clientID2Index, name):\n",
        "  similar_dataset = []\n",
        "  for i in clientID2Index:\n",
        "    for j in clientID2Index[i]:\n",
        "      for k in clientID2Index[i]:\n",
        "        inp1, inp2 = j,k\n",
        "        similar_dataset.append((inp1, inp2, 1))\n",
        "  \n",
        "  dissimilar_dataset = []\n",
        "  for i in clientID2Index:\n",
        "    other_speakers = [x for x in clientID2Index.keys() if i!=x]\n",
        "    for j in other_speakers:\n",
        "      for x in clientID2Index[i]:\n",
        "        for y in clientID2Index[j]:\n",
        "          inp1, inp2 = x,y\n",
        "          dissimilar_dataset.append((inp1, inp2, -1))\n",
        "  \n",
        "  #Making both the labels balanced\n",
        "  ind = [i for i in range(len(dissimilar_dataset))]\n",
        "  indexes_to_have = random.sample(ind, len(similar_dataset))\n",
        "  dissimilar_dataset = [dissimilar_dataset[i] for i in indexes_to_have]\n",
        "  #Saving\n",
        "  dataset = np.array(similar_dataset + dissimilar_dataset)\n",
        "  #Shuffline dataset\n",
        "  np.random.shuffle(dataset)\n",
        "  print(dataset.shape)\n",
        "  np.save('drive/My Drive/'+name+'.npy', dataset)\n",
        "\n",
        "train = pd.read_csv('drive/My Drive/train.tsv', sep='\\t')\n",
        "#All speakers in my train data\n",
        "num_speakers = len(set(train['client_id']))\n",
        "spk = list(set(train['client_id']))\n",
        "mapped = {spk[i]:i for i in range(num_speakers)}\n",
        "train = train.replace(mapped)\n",
        "\n",
        "#The following dictionary stores a mapping of speakerID to indexes of examples\n",
        "clientID2Index = {i:[] for i in range(28)}\n",
        "for i, val in enumerate(train['client_id']):\n",
        "  clientID2Index[val].append(i)\n",
        "\n",
        "#Creating dataset to train Siamese Model\n",
        "createDataset(clientID2Index, 'SiameseDataset')\n"
      ],
      "execution_count": 0,
      "outputs": [
        {
          "output_type": "stream",
          "text": [
            "(1014032, 3)\n"
          ],
          "name": "stdout"
        }
      ]
    },
    {
      "cell_type": "code",
      "metadata": {
        "id": "GmFNqgaYYzql",
        "colab_type": "code",
        "outputId": "ebfa524c-6da4-4f12-8ce2-b8029e8ba71a",
        "colab": {
          "base_uri": "https://localhost:8080/",
          "height": 34
        }
      },
      "source": [
        "#Loading the data to train Siamese Model\n",
        "dataset = np.load('drive/My Drive/SiameseDataset.npy')\n",
        "dataset.shape"
      ],
      "execution_count": 7,
      "outputs": [
        {
          "output_type": "execute_result",
          "data": {
            "text/plain": [
              "(1014032, 3)"
            ]
          },
          "metadata": {
            "tags": []
          },
          "execution_count": 7
        }
      ]
    },
    {
      "cell_type": "code",
      "metadata": {
        "id": "B5IpIT0WE84K",
        "colab_type": "code",
        "outputId": "333c1a5b-8673-4b1d-9050-e896198be34f",
        "colab": {
          "base_uri": "https://localhost:8080/",
          "height": 34
        }
      },
      "source": [
        "train, trainy, val, valy, test, testy = dataset[:600000,:2], dataset[:600000,2], dataset[600000:650000,:2], dataset[600000:650000:,2], dataset[650000:,:2], dataset[650000:,2]\n",
        "trainy = np.array([i if i==1 else 0 for i in trainy])\n",
        "valy = np.array([i if i==1 else 0 for i in valy])\n",
        "testy = np.array([i if i==1 else 0 for i in testy])\n",
        "print(train.shape, val.shape, test.shape)"
      ],
      "execution_count": 8,
      "outputs": [
        {
          "output_type": "stream",
          "text": [
            "(600000, 2) (50000, 2) (364032, 2)\n"
          ],
          "name": "stdout"
        }
      ]
    },
    {
      "cell_type": "code",
      "metadata": {
        "id": "MDYi6icBHze_",
        "colab_type": "code",
        "colab": {}
      },
      "source": [
        "def train_network(train, ytrain, val, yval, test, ytest, data, batchsize, num_epochs, lr=0.001):\n",
        "    #input_shape = (5388, 20, 3)\n",
        "    #X1 = tf.placeholder('float32', [None, 5388, 20, 3], name = 'Inp1')\n",
        "    #X2 = tf.placeholder('float32', [None, 5388, 20, 3], name = 'Inp2')\n",
        "    \n",
        "    X1 = tf.keras.Input(shape=(5388, 20, 3))\n",
        "    X2 = tf.keras.Input(shape=(5388, 20, 3))\n",
        "    y = tf.placeholder('int32',[None],name='t1')\n",
        "\n",
        "    #Encoder 1\n",
        "    #Convolution layer 1\n",
        "    layer11 = layers.Conv2D(40, 5, activation='relu', name=\"L11\")(X1)\n",
        "    layer11 = layers.Dropout(0.05)(layer11)\n",
        "    out11 = layers.MaxPooling2D(5)(layer11)\n",
        "    #Convolution layer 2\n",
        "    layer21 = layers.Conv2D(20, 2, activation='relu', name=\"L21\")(out11)\n",
        "    layer21 = layers.Dropout(0.05)(layer21)\n",
        "    out21 = layers.MaxPooling2D(2)(layer21)\n",
        "    #Convolution layer 3\n",
        "    layer31 = layers.Conv2D(10, (2,1), activation='relu', name=\"L31\")(out21)\n",
        "    out31 = layers.Dropout(0.05)(layer31)\n",
        "    #Flattened layer\n",
        "    flatten1 = layers.Flatten()(out31)\n",
        "    #Dense Layer\n",
        "    embeds1 = layers.Dense(100, activation = \"sigmoid\", name=\"D11\")(flatten1)\n",
        "\n",
        "    #Encoder 2\n",
        "    #Convolution layer 1\n",
        "    layer12 = layers.Conv2D(40, 5, activation='relu', name=\"L12\")(X2)\n",
        "    layer12 = layers.Dropout(0.05)(layer12)\n",
        "    out12 = layers.MaxPooling2D(5)(layer12)\n",
        "    #Convolution layer 2\n",
        "    layer22 = layers.Conv2D(20, 2, activation='relu', name=\"L22\")(out12)\n",
        "    layer22 = layers.Dropout(0.05)(layer22)\n",
        "    out22 = layers.MaxPooling2D(2)(layer22)\n",
        "    #Convolution layer 3\n",
        "    layer32 = layers.Conv2D(10, (2,1), activation='relu', name=\"L32\")(out22)\n",
        "    out32 = layers.Dropout(0.05)(layer32)\n",
        "    #Flattened layer\n",
        "    flatten2 = layers.Flatten()(out32)\n",
        "    #Dense Layer\n",
        "    embeds2 = layers.Dense(100, activation = \"sigmoid\", name=\"D12\")(flatten2)\n",
        "  \n",
        "    #Siamese network\n",
        "    embedded_distance = layers.Subtract(name='subtract_embeddings')([embeds1, embeds2])\n",
        "    embedded_distance1 = layers.Lambda(lambda x: tf.sqrt(tf.reduce_sum(tf.square(x), axis=-1, keepdims=True)), name='euclidean_distance')(embedded_distance)\n",
        "    siamese_out = layers.Dense(2, activation='sigmoid', name=\"OutputLayer\")(embedded_distance1)\n",
        "\n",
        "    #Saving model for embeddings\n",
        "    embeds = tf.keras.Model(inputs=[X1,X2], outputs = embedded_distance)\n",
        "    siamesemodel = tf.keras.Model(inputs=[X1,X2], outputs = siamese_out)\n",
        "    \n",
        "    #Loss\n",
        "    loss = tf.nn.sparse_softmax_cross_entropy_with_logits(labels = y,logits = siamese_out)\n",
        "    loss = tf.reduce_mean(loss)\n",
        "    \n",
        "    #Optimizer\n",
        "    optimizer = tf.train.AdamOptimizer(learning_rate=lr).minimize(loss)\n",
        "    soft_out = tf.nn.softmax(siamese_out)\n",
        "    \n",
        "    y_onehot = tf.one_hot(y, 2)\n",
        "    #Prediction and accuracy\n",
        "    pred = tf.equal(tf.argmax(soft_out,1), tf.argmax(y_onehot,1))\n",
        "    accuracy = tf.reduce_mean(tf.cast(pred, tf.float32))\n",
        "    \n",
        "    #Saving history\n",
        "    hist = {'train_loss':[], 'val_loss':[], 'train_acc':[], 'val_acc':[]}\n",
        "    saver = tf.train.Saver()\n",
        "    with tf.Session() as sess:\n",
        "      sess.run(tf.global_variables_initializer())\n",
        "      steps = train.shape[0]//batchsize\n",
        "      print(\"Steps:\", steps)\n",
        "      for epoch in range(num_epochs):\n",
        "          epoch_loss = 0\n",
        "          epoch_acc = 0\n",
        "          for step in range(2):\n",
        "              start = step*batchsize\n",
        "              end = min(start + batchsize, train.shape[0])\n",
        "              batch_x = train[start:end]\n",
        "              batch_data1 = np.array([data[i[0]] for i in batch_x])\n",
        "              batch_data2 = np.array([data[i[1]] for i in batch_x])\n",
        "              batchy = ytrain[start:end]\n",
        "              #print(batch_data1.shape, batch_data2.shape, batchy.shape)\n",
        "              _, cost = sess.run([optimizer, loss], feed_dict={X1:batch_data1, X2:batch_data2, y:batchy})\n",
        "              train_acc = sess.run(accuracy, feed_dict = {X1:batch_data1, X2:batch_data2, y:batchy})\n",
        "              epoch_loss += cost\n",
        "              epoch_acc += train_acc\n",
        "              if step%100 == 0:\n",
        "                print(\"Epoch:\",epoch,\"Step:\",step+1,\"TrainLoss:\",epoch_loss/(step+1), \"accuracy:\", epoch_acc/(step+1))\n",
        "              saved_path = saver.sess(sess, \"drive/My Drive/test.ckpt\", global_step = step)\n",
        "              hist['train_loss'].append(epoch_loss/(step+1))\n",
        "              hist['train_acc'].append(epoch_acc/(step+1))\n",
        "          print(\"Saved model to disk\")\n",
        "          print(\"Epoch:\",epoch,\"Loss:\", epoch_loss/steps, \"accuracy:\", epoch_acc/steps)\n",
        "          val_batches = val.shape[0]//batchsize\n",
        "          val_l = 0\n",
        "          val_a = 0\n",
        "          for x in range(val_batches):\n",
        "              start = x*batchsize\n",
        "              end = min(start + batchsize, val.shape[0])\n",
        "              valbatch_x = val[start:end]\n",
        "              valbatch_data1 = np.array([data[i[0]] for i in valbatch_x])\n",
        "              valbatch_data2 = np.array([data[i[1]] for i in valbatch_x]) \n",
        "              valbatchy = yval[start:end]\n",
        "              val_loss, val_acc = sess.run([loss,accuracy], feed_dict = {X1:valbatch_data1,\n",
        "                                                                          X2:valbatch_data2,\n",
        "                                                                          y:valbatchy})\n",
        "              val_l += val_loss\n",
        "              val_a += val_acc\n",
        "              hist['val_loss'].append(val_loss)\n",
        "              hist['val_acc'].append(val_acc)\n",
        "          print(\"Validation:\",\"Epoch:\",epoch,\"Loss:\", val_l/val_batches, \"accuracy:\", val_a/val_batches)\n",
        "      test_batches = test.shape[0]//batchsize\n",
        "      test_l = 0\n",
        "      test_a = 0\n",
        "      for x in range(test_batches):\n",
        "          start = x*batchsize\n",
        "          end = min(start + batchsize, test.shape[0])\n",
        "          testbatch_x = test[start:end]\n",
        "          testbatch_data1 = np.array([data[i[0]] for i in testbatch_x])\n",
        "          testbatch_data2 = np.array([data[i[1]] for i in testbatch_x]) \n",
        "          testbatchy = ytest[start:end]\n",
        "          test_loss, test_acc = sess.run([loss,accuracy], feed_dict = {X1:testbatch_data1,\n",
        "                                                                      X2:testbatch_data2,\n",
        "                                                                      y:testbatchy})\n",
        "          test_l += test_loss\n",
        "          test_a += test_acc\n",
        "      print(\"Test: Loss:\", test_l/test_batches, \"accuracy:\", test_a/test_batches)\n",
        "          \n",
        "    return (hist, siamesemodel, embeds)\n"
      ],
      "execution_count": 0,
      "outputs": []
    },
    {
      "cell_type": "code",
      "metadata": {
        "id": "8qEsbHjFQYdI",
        "colab_type": "code",
        "colab": {}
      },
      "source": [
        "#Checking shapes of data and training the model\n",
        "print(train.shape, trainy.shape, val.shape, valy.shape, test.shape, testy.shape, data.shape)\n",
        "model_hist, embeddingModel, embeds = train_network(train, trainy, val, valy, test, testy, data, batchsize = 128, num_epochs = 1)"
      ],
      "execution_count": 0,
      "outputs": []
    },
    {
      "cell_type": "markdown",
      "metadata": {
        "id": "qA_XGHZxonlq",
        "colab_type": "text"
      },
      "source": [
        "The model is trained for 10 epochs. We load the trained models and their history."
      ]
    },
    {
      "cell_type": "code",
      "metadata": {
        "id": "3TgEXgL3o8ag",
        "colab_type": "code",
        "outputId": "7d1d277b-4491-4b09-fb9f-2e2d7f311ccd",
        "colab": {
          "base_uri": "https://localhost:8080/",
          "height": 502
        }
      },
      "source": [
        "#Loading training history and models.\n",
        "with open(\"drive/My Drive/Models/bestModelHistory.pkl\", \"rb\") as f:\n",
        "  history = p.load(f)\n",
        "fig, (ax1,ax2) = plt.subplots(1,2, figsize = (20,8))\n",
        "ax1.plot(history['train_loss'][::4687])\n",
        "ax1.plot(np.array(history['test_loss'][::39])*39)\n",
        "ax1.legend([\"Train\", \"Validation\"])\n",
        "ax1.set(xlabel = 'Epochs',ylabel=\"CrossEntropy Loss\")\n",
        "ax2.plot(history['train_acc'][::4687])\n",
        "ax2.plot(np.array(history['test_acc'][::39])*39)\n",
        "ax2.set(xlabel = 'Epochs', ylabel='Accuracy')\n",
        "ax2.legend([\"Train\", \"Validation\"])\n",
        "plt.savefig(\"drive/My Drive/lossfigs.png\")"
      ],
      "execution_count": 173,
      "outputs": [
        {
          "output_type": "display_data",
          "data": {
            "image/png": "[encoded data removed]",
            "text/plain": [
              "<Figure size 1440x576 with 2 Axes>"
            ]
          },
          "metadata": {
            "tags": []
          }
        }
      ]
    },
    {
      "cell_type": "code",
      "metadata": {
        "id": "sfR7ff8QNcaF",
        "colab_type": "code",
        "colab": {
          "base_uri": "https://localhost:8080/",
          "height": 258
        },
        "outputId": "4c70f796-eeac-4255-a489-f798a1c8b228"
      },
      "source": [
        "#Loading Siamese Model\n",
        "json_file = open('drive/My Drive/Models/Smodel.json', 'r')\n",
        "loaded_model_json = json_file.read()\n",
        "json_file.close()\n",
        "SiameseModel = model_from_json(loaded_model_json)\n",
        "# load weights into new model\n",
        "SiameseModel.load_weights(\"drive/My Drive/Models/Smodel.h5\")\n",
        "\n",
        "#Loading Embeddings Model\n",
        "json_file = open('drive/My Drive/Models/embeds.json', 'r')\n",
        "loaded_model_json = json_file.read()\n",
        "json_file.close()\n",
        "embeddings = model_from_json(loaded_model_json)\n",
        "# load weights into new model\n",
        "embeddings.load_weights(\"drive/My Drive/Models/embeds.h5\")"
      ],
      "execution_count": 9,
      "outputs": [
        {
          "output_type": "stream",
          "text": [
            "WARNING:tensorflow:From /usr/local/lib/python3.6/dist-packages/tensorflow_core/python/ops/init_ops.py:97: calling GlorotUniform.__init__ (from tensorflow.python.ops.init_ops) with dtype is deprecated and will be removed in a future version.\n",
            "Instructions for updating:\n",
            "Call initializer instance with the dtype argument instead of passing it to the constructor\n",
            "WARNING:tensorflow:From /usr/local/lib/python3.6/dist-packages/tensorflow_core/python/ops/init_ops.py:97: calling Zeros.__init__ (from tensorflow.python.ops.init_ops) with dtype is deprecated and will be removed in a future version.\n",
            "Instructions for updating:\n",
            "Call initializer instance with the dtype argument instead of passing it to the constructor\n",
            "WARNING:tensorflow:From /usr/local/lib/python3.6/dist-packages/tensorflow_core/python/ops/resource_variable_ops.py:1630: calling BaseResourceVariable.__init__ (from tensorflow.python.ops.resource_variable_ops) with constraint is deprecated and will be removed in a future version.\n",
            "Instructions for updating:\n",
            "If using Keras pass *_constraint arguments to layers.\n",
            "WARNING:tensorflow:From /usr/local/lib/python3.6/dist-packages/keras/backend/tensorflow_backend.py:66: The name tf.get_default_graph is deprecated. Please use tf.compat.v1.get_default_graph instead.\n",
            "\n",
            "WARNING:tensorflow:From /usr/local/lib/python3.6/dist-packages/keras/backend/tensorflow_backend.py:148: The name tf.placeholder_with_default is deprecated. Please use tf.compat.v1.placeholder_with_default instead.\n",
            "\n"
          ],
          "name": "stdout"
        }
      ]
    },
    {
      "cell_type": "code",
      "metadata": {
        "id": "F3ux1so8yxvf",
        "colab_type": "code",
        "outputId": "096d2d83-e621-4e5c-d69c-cacdc0bd874a",
        "colab": {
          "base_uri": "https://localhost:8080/",
          "height": 66,
          "referenced_widgets": [
            "55f4b53f0acd47f99257ba403363baae",
            "abf9af2d8f2f47ca83312718fc22e4fc",
            "8afa489134be489295791f2940fe954b",
            "922a30b3992a417b85655b4ceecac545",
            "5ccb2c2e076f4c868530cc638f6be0ae",
            "a1c3306624ea46649821122b30b6d5bb",
            "52c22cf07b00434a8a9f2c323c223c0d",
            "8be439330b8348dea35e2f41c8a64c26"
          ]
        }
      },
      "source": [
        "#Running on test data\n",
        "test_batches = test.shape[0]//128\n",
        "test_l = 0\n",
        "test_a = 0\n",
        "predictions = []\n",
        "for x in tqdm_notebook(range(10)):\n",
        "    start = x*128\n",
        "    end = min(start + 128, test.shape[0])\n",
        "    testbatch_x = val[start:end]\n",
        "    testbatch_data1 = np.array([data[i[0]] for i in testbatch_x])\n",
        "    testbatch_data2 = np.array([data[i[1]] for i in testbatch_x]) \n",
        "    preds = embeddings.predict([testbatch_data1, testbatch_data2])\n",
        "    predictions.extend(preds)\n",
        "predictions = np.array(predictions)"
      ],
      "execution_count": 10,
      "outputs": [
        {
          "output_type": "display_data",
          "data": {
            "application/vnd.jupyter.widget-view+json": {
              "model_id": "55f4b53f0acd47f99257ba403363baae",
              "version_minor": 0,
              "version_major": 2
            },
            "text/plain": [
              "HBox(children=(IntProgress(value=0, max=10), HTML(value='')))"
            ]
          },
          "metadata": {
            "tags": []
          }
        },
        {
          "output_type": "stream",
          "text": [
            "\n"
          ],
          "name": "stdout"
        }
      ]
    },
    {
      "cell_type": "code",
      "metadata": {
        "id": "cfgCU8SCChEr",
        "colab_type": "code",
        "colab": {
          "base_uri": "https://localhost:8080/",
          "height": 302
        },
        "outputId": "cd8c58a0-a461-4ddc-98d2-7f6465b7b841"
      },
      "source": [
        "from sklearn.cluster import KMeans, SpectralClustering\n",
        "from sklearn.decomposition import PCA\n",
        "import matplotlib.pyplot as plt\n",
        "import seaborn as sns; sns.set()  # for plot styling\n",
        "kmeans = KMeans(n_clusters=27, random_state=0).fit(predictions)\n",
        "#spec = SpectralClustering(n_clusters=2).fit(predictions)\n",
        "y_kmeans = kmeans.predict(predictions)\n",
        "#y_spec = spec.fit_predict(predictions)\n",
        "centers = kmeans.cluster_centers_\n",
        "\n",
        "pca = PCA(.95)\n",
        "pca.fit(predictions)\n",
        "preds = pca.transform(predictions)\n",
        "\n",
        "plt.scatter(preds[:, 0], preds[:, 1], c=y_kmeans, s=50, cmap='RdBu')\n",
        "#plt.scatter(preds[:, 0], preds[:, 1], c=y_spec, s=50, cmap='RdBu')\n",
        "\n",
        "plt.xlabel(\"PCA_axis 1\")\n",
        "plt.ylabel(\"PCA_Axis 2\")\n",
        "#plt.savefig('drive/My Drive/clustered_embeds.png')"
      ],
      "execution_count": 14,
      "outputs": [
        {
          "output_type": "execute_result",
          "data": {
            "text/plain": [
              "Text(0, 0.5, 'PCA_Axis 2')"
            ]
          },
          "metadata": {
            "tags": []
          },
          "execution_count": 14
        },
        {
          "output_type": "display_data",
          "data": {
            "image/png": "[encoded data removed]",
            "text/plain": [
              "<Figure size 432x288 with 1 Axes>"
            ]
          },
          "metadata": {
            "tags": []
          }
        }
      ]
    },
    {
      "cell_type": "code",
      "metadata": {
        "id": "PT-nVYHLL3py",
        "colab_type": "code",
        "colab": {}
      },
      "source": [
        "weights = [layer.get_weights() for layer in embeddings.layers]"
      ],
      "execution_count": 0,
      "outputs": []
    },
    {
      "cell_type": "code",
      "metadata": {
        "id": "U42-4LRWYEZv",
        "colab_type": "code",
        "colab": {
          "base_uri": "https://localhost:8080/",
          "height": 34
        },
        "outputId": "f5aae828-9daf-415f-d325-819925829157"
      },
      "source": [
        "weights[-2][0].shape"
      ],
      "execution_count": 172,
      "outputs": [
        {
          "output_type": "execute_result",
          "data": {
            "text/plain": [
              "(5360, 100)"
            ]
          },
          "metadata": {
            "tags": []
          },
          "execution_count": 172
        }
      ]
    },
    {
      "cell_type": "code",
      "metadata": {
        "id": "y0n7TK49TSQA",
        "colab_type": "code",
        "colab": {
          "base_uri": "https://localhost:8080/",
          "height": 34
        },
        "outputId": "2e1a9ac6-aa30-4609-e371-74e98e1edaba"
      },
      "source": [
        "conv1_filters = weights[2][0]\n",
        "min_v, max_v = conv1_filters.min(), conv1_filters.max()\n",
        "conv1_filters1 = (conv1_filters - min_v)/(max_v-min_v)\n",
        "conv2_filters = weights[3][0]\n",
        "min_v, max_v = conv2_filters.min(), conv2_filters.max()\n",
        "conv2_filters1 = (conv2_filters - min_v)/(max_v-min_v)\n",
        "\n",
        "print(conv1_filters1.shape, conv2_filters1.shape)"
      ],
      "execution_count": 22,
      "outputs": [
        {
          "output_type": "stream",
          "text": [
            "(5, 5, 3, 40) (5, 5, 3, 40)\n"
          ],
          "name": "stdout"
        }
      ]
    },
    {
      "cell_type": "code",
      "metadata": {
        "id": "kkEI5eKyTTAw",
        "colab_type": "code",
        "colab": {
          "base_uri": "https://localhost:8080/",
          "height": 388
        },
        "outputId": "9c5f4446-70ab-49ac-b29f-f17397b57278"
      },
      "source": [
        "# plot first few filters\n",
        "n_filters, ix = 6, 1\n",
        "fig = plt.figure(figsize=(10,10))\n",
        "for i in range(n_filters):\n",
        "  # get the filter\n",
        "  f = conv1_filters1[:, :, :, i]\n",
        "  # plot each channel separately\n",
        "  for j in range(3):\n",
        "    # specify subplot and turn of axis\n",
        "    ax = plt.subplot(n_filters, 5, ix)\n",
        "    ax.set_xticks([])\n",
        "    ax.set_yticks([])\n",
        "    # plot filter channel in grayscale\n",
        "    plt.imshow(f[:, :, j], cmap='gray')\n",
        "    ix += 1\n",
        "# show the figure\n",
        "plt.show()\n"
      ],
      "execution_count": 23,
      "outputs": [
        {
          "output_type": "display_data",
          "data": {
            "image/png": "[encoded data removed]",
            "text/plain": [
              "<Figure size 720x720 with 18 Axes>"
            ]
          },
          "metadata": {
            "tags": []
          }
        }
      ]
    },
    {
      "cell_type": "code",
      "metadata": {
        "id": "sbVQeQE2Uv0n",
        "colab_type": "code",
        "colab": {
          "base_uri": "https://localhost:8080/",
          "height": 388
        },
        "outputId": "82128369-f540-4b98-8d4e-02784be53c92"
      },
      "source": [
        "# plot first few filters\n",
        "n_filters, ix = 6, 1\n",
        "fig = plt.figure(figsize=(10,10))\n",
        "for i in range(n_filters):\n",
        "  # get the filter\n",
        "  f = conv2_filters1[:, :, :, i]\n",
        "  # plot each channel separately\n",
        "  for j in range(3):\n",
        "    # specify subplot and turn of axis\n",
        "    ax = plt.subplot(n_filters, 5, ix)\n",
        "    ax.set_xticks([])\n",
        "    ax.set_yticks([])\n",
        "    # plot filter channel in grayscale\n",
        "    plt.imshow(f[:, :, j], cmap='gray')\n",
        "    ix += 1\n",
        "# show the figure\n",
        "plt.show()"
      ],
      "execution_count": 24,
      "outputs": [
        {
          "output_type": "display_data",
          "data": {
            "image/png": "[encoded data removed]",
            "text/plain": [
              "<Figure size 720x720 with 18 Axes>"
            ]
          },
          "metadata": {
            "tags": []
          }
        }
      ]
    },
    {
      "cell_type": "code",
      "metadata": {
        "id": "KPhcfgtKX0Nk",
        "colab_type": "code",
        "colab": {}
      },
      "source": [
        ""
      ],
      "execution_count": 0,
      "outputs": []
    }
  ]
}